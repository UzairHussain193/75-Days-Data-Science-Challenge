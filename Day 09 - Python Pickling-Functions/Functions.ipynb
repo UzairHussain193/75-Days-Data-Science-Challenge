{
 "cells": [
  {
   "cell_type": "markdown",
   "metadata": {},
   "source": [
    "# Day 08 cont. - Python Functions\n",
    "\n",
    "This includes:\n",
    "- Functions"
   ]
  },
  {
   "cell_type": "markdown",
   "metadata": {},
   "source": [
    "### Why functions are important?\n",
    "\n",
    "1. Code reusability - write once, use many times\n",
    "2. Code modularity - means dividing a program into separate functions\n",
    "3. Code readability - easy to read and understand\n",
    "4. Code maintainability - easy to maintain\n",
    "5. Code testing - easy to test\n",
    "6. Code debugging - easy to debug\n",
    "7. Code performance - easy to optimize\n",
    "8. Code organization - easy to organize\n",
    "9. Code documentation - easy to document\n",
    "10. Code optimization - easy to optimize"
   ]
  },
  {
   "cell_type": "code",
   "execution_count": 1,
   "metadata": {},
   "outputs": [
    {
     "name": "stdout",
     "output_type": "stream",
     "text": [
      "Hello from a function\n"
     ]
    }
   ],
   "source": [
    "# write simple function\n",
    "def my_function():\n",
    "    print(\"Hello from a function\")\n",
    "\n",
    "my_function()"
   ]
  },
  {
   "cell_type": "code",
   "execution_count": 2,
   "metadata": {},
   "outputs": [
    {
     "data": {
      "text/plain": [
       "7"
      ]
     },
     "execution_count": 2,
     "metadata": {},
     "output_type": "execute_result"
    }
   ],
   "source": [
    "def add(a,b):\n",
    "    c=(int)(a+b)\n",
    "    return c\n",
    "\n",
    "add(3,4)"
   ]
  },
  {
   "cell_type": "code",
   "execution_count": 3,
   "metadata": {},
   "outputs": [
    {
     "name": "stdout",
     "output_type": "stream",
     "text": [
      "Welcome\n",
      "Welcome from function2\n"
     ]
    }
   ],
   "source": [
    "def welcome():\n",
    "    print(\"Welcome\")\n",
    "\n",
    "welcome()\n",
    " \n",
    "def welcome1():\n",
    "    return \"Welcome from function2\"\n",
    "\n",
    "print(welcome1())"
   ]
  },
  {
   "cell_type": "code",
   "execution_count": 4,
   "metadata": {},
   "outputs": [
    {
     "name": "stdout",
     "output_type": "stream",
     "text": [
      "Welcome\n"
     ]
    }
   ],
   "source": [
    "def welcome():\n",
    "\n",
    "    '''\n",
    "    \n",
    "    Description: this will print a welcome message\n",
    "\n",
    "    Return: None\n",
    "\n",
    "    '''\n",
    "    print(\"Welcome\")\n",
    "\n",
    "\n",
    "welcome()"
   ]
  },
  {
   "cell_type": "code",
   "execution_count": 5,
   "metadata": {},
   "outputs": [
    {
     "data": {
      "text/plain": [
       "(5.0, -1.0, 6.0, 0.6666666666666666)"
      ]
     },
     "execution_count": 5,
     "metadata": {},
     "output_type": "execute_result"
    }
   ],
   "source": [
    "# parametarized functions\n",
    "def calculator(a,b):\n",
    "    sum=(float)(a+b)\n",
    "    diff=(float)(a-b)\n",
    "    product=(float)(a*b)\n",
    "    div=(float)(a/b)\n",
    "\n",
    "    return sum,diff,product,div\n",
    "\n",
    "\n",
    "calculator(2,3)"
   ]
  },
  {
   "cell_type": "code",
   "execution_count": 14,
   "metadata": {},
   "outputs": [
    {
     "name": "stdout",
     "output_type": "stream",
     "text": [
      "Even Sum :  30\n",
      "Odd Sum :  25\n",
      "Even Sum :  110\n",
      "Odd Sum :  100\n"
     ]
    }
   ],
   "source": [
    "# function to add even and odd numbers from list\n",
    "def add_even_odd(lst):\n",
    "    evensum=0\n",
    "    oddsum=0\n",
    "    for i in lst:\n",
    "        if i%2==0:\n",
    "            evensum+=i\n",
    "        else:\n",
    "            oddsum+=i\n",
    "    return evensum,oddsum\n",
    "\n",
    "lst=[1,2,3,4,5,6,7,8,9,10]\n",
    "lst2=[1,2,3,4,5,6,7,8,9,10,11,12,13,14,15,16,17,18,19,20]\n",
    "\n",
    "sum1,sum2=add_even_odd(lst)\n",
    "print(\"Even Sum : \",sum1)\n",
    "print(\"Odd Sum : \",sum2)\n",
    "# print(\"Even and Odd Sum of List from 1-10\",add_even_odd(lst))\n",
    "\n",
    "sum1,sum2=add_even_odd(lst2)\n",
    "print(\"Even Sum : \",sum1)\n",
    "print(\"Odd Sum : \",sum2)\n",
    "# print(\"Even and Odd Sum of List from 1-20\",add_even_odd(lst2))"
   ]
  },
  {
   "cell_type": "code",
   "execution_count": null,
   "metadata": {},
   "outputs": [],
   "source": []
  }
 ],
 "metadata": {
  "kernelspec": {
   "display_name": "Python 3",
   "language": "python",
   "name": "python3"
  },
  "language_info": {
   "codemirror_mode": {
    "name": "ipython",
    "version": 3
   },
   "file_extension": ".py",
   "mimetype": "text/x-python",
   "name": "python",
   "nbconvert_exporter": "python",
   "pygments_lexer": "ipython3",
   "version": "3.11.1"
  }
 },
 "nbformat": 4,
 "nbformat_minor": 2
}
