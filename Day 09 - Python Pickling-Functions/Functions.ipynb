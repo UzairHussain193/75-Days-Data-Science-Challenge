{
 "cells": [
  {
   "cell_type": "markdown",
   "metadata": {},
   "source": [
    "# Day 08 cont. - Python Functions\n",
    "\n",
    "This includes:\n",
    "- Functions\n",
    "- Positional Argument\n",
    "- Keyword Argument"
   ]
  },
  {
   "cell_type": "markdown",
   "metadata": {},
   "source": [
    "### Why functions are important?\n",
    "\n",
    "1. Code reusability - write once, use many times\n",
    "2. Code modularity - means dividing a program into separate functions\n",
    "3. Code readability - easy to read and understand\n",
    "4. Code maintainability - easy to maintain\n",
    "5. Code testing - easy to test\n",
    "6. Code debugging - easy to debug\n",
    "7. Code performance - easy to optimize\n",
    "8. Code organization - easy to organize\n",
    "9. Code documentation - easy to document\n",
    "10. Code optimization - easy to optimize"
   ]
  },
  {
   "cell_type": "code",
   "execution_count": 1,
   "metadata": {},
   "outputs": [
    {
     "name": "stdout",
     "output_type": "stream",
     "text": [
      "Hello from a function\n"
     ]
    }
   ],
   "source": [
    "# write simple function\n",
    "def my_function():\n",
    "    print(\"Hello from a function\")\n",
    "\n",
    "my_function()"
   ]
  },
  {
   "cell_type": "code",
   "execution_count": 2,
   "metadata": {},
   "outputs": [
    {
     "data": {
      "text/plain": [
       "7"
      ]
     },
     "execution_count": 2,
     "metadata": {},
     "output_type": "execute_result"
    }
   ],
   "source": [
    "def add(a,b):\n",
    "    c=(int)(a+b)\n",
    "    return c\n",
    "\n",
    "add(3,4)"
   ]
  },
  {
   "cell_type": "code",
   "execution_count": 3,
   "metadata": {},
   "outputs": [
    {
     "name": "stdout",
     "output_type": "stream",
     "text": [
      "Welcome\n",
      "Welcome from function2\n"
     ]
    }
   ],
   "source": [
    "def welcome():\n",
    "    print(\"Welcome\")\n",
    "\n",
    "welcome()\n",
    " \n",
    "def welcome1():\n",
    "    return \"Welcome from function2\"\n",
    "\n",
    "print(welcome1())"
   ]
  },
  {
   "cell_type": "code",
   "execution_count": 4,
   "metadata": {},
   "outputs": [
    {
     "name": "stdout",
     "output_type": "stream",
     "text": [
      "Welcome\n"
     ]
    }
   ],
   "source": [
    "def welcome():\n",
    "\n",
    "    '''\n",
    "    \n",
    "    Description: this will print a welcome message\n",
    "\n",
    "    Return: None\n",
    "\n",
    "    '''\n",
    "    print(\"Welcome\")\n",
    "\n",
    "\n",
    "welcome()"
   ]
  },
  {
   "cell_type": "code",
   "execution_count": 5,
   "metadata": {},
   "outputs": [
    {
     "data": {
      "text/plain": [
       "(5.0, -1.0, 6.0, 0.6666666666666666)"
      ]
     },
     "execution_count": 5,
     "metadata": {},
     "output_type": "execute_result"
    }
   ],
   "source": [
    "# parametarized functions\n",
    "def calculator(a,b):\n",
    "    sum=(float)(a+b)\n",
    "    diff=(float)(a-b)\n",
    "    product=(float)(a*b)\n",
    "    div=(float)(a/b)\n",
    "\n",
    "    return sum,diff,product,div\n",
    "\n",
    "\n",
    "calculator(2,3)"
   ]
  },
  {
   "cell_type": "code",
   "execution_count": 6,
   "metadata": {},
   "outputs": [
    {
     "name": "stdout",
     "output_type": "stream",
     "text": [
      "Even Sum :  30\n",
      "Odd Sum :  25\n",
      "Even Sum :  110\n",
      "Odd Sum :  100\n"
     ]
    }
   ],
   "source": [
    "# function to add even and odd numbers from list\n",
    "def add_even_odd(lst):\n",
    "    evensum=0\n",
    "    oddsum=0\n",
    "    for i in lst:\n",
    "        if i%2==0:\n",
    "            evensum+=i\n",
    "        else:\n",
    "            oddsum+=i\n",
    "    return evensum,oddsum\n",
    "\n",
    "lst=[1,2,3,4,5,6,7,8,9,10]\n",
    "lst2=[1,2,3,4,5,6,7,8,9,10,11,12,13,14,15,16,17,18,19,20]\n",
    "\n",
    "sum1,sum2=add_even_odd(lst)\n",
    "print(\"Even Sum : \",sum1)\n",
    "print(\"Odd Sum : \",sum2)\n",
    "# print(\"Even and Odd Sum of List from 1-10\",add_even_odd(lst))\n",
    "\n",
    "sum1,sum2=add_even_odd(lst2)\n",
    "print(\"Even Sum : \",sum1)\n",
    "print(\"Odd Sum : \",sum2)\n",
    "# print(\"Even and Odd Sum of List from 1-20\",add_even_odd(lst2))"
   ]
  },
  {
   "cell_type": "markdown",
   "metadata": {},
   "source": [
    "# Positional and Keyword Argument in Python\n"
   ]
  },
  {
   "cell_type": "markdown",
   "metadata": {},
   "source": [
    "In Python, functions can accept arguments in two different ways: positional arguments and keyword arguments.\n",
    "\n",
    "1. Positional Arguments:\n",
    "   Positional arguments are passed to a function based on their position or order. The values are assigned to the function parameters in the same order as they are passed. The number and order of arguments must match the function definition.\n",
    "\n",
    "   Here's an example:\n",
    "   ```python\n",
    "   def greet(name, age):\n",
    "       print(f\"Hello {name}! You are {age} years old.\")\n",
    "\n",
    "   greet(\"Alice\", 25)\n",
    "   ```\n",
    "   In this example, \"Alice\" is passed as the first argument and 25 as the second argument. The function `greet` assigns these values to the `name` and `age` parameters respectively. The output will be: `Hello Alice! You are 25 years old.`\n",
    "\n",
    "2. Keyword Arguments:\n",
    "   Keyword arguments are passed to a function using the name of the parameter along with the corresponding value. This allows you to specify arguments in any order, as long as you provide the parameter name.\n",
    "\n",
    "   Here's an example:\n",
    "   ```python\n",
    "   def greet(name, age):\n",
    "       print(f\"Hello {name}! You are {age} years old.\")\n",
    "\n",
    "   greet(age=25, name=\"Alice\")\n",
    "   ```\n",
    "   In this example, the arguments are passed using the parameter names `age` and `name`. The order of the arguments doesn't matter because they are explicitly associated with the parameter names. The output will be the same as before: `Hello Alice! You are 25 years old.`\n",
    "\n",
    "Using keyword arguments can make your code more readable and self-explanatory, especially when dealing with functions that have a large number of parameters. It also allows you to provide default values for parameters, which can be overridden when calling the function.\n",
    "\n",
    "It's important to note that when using both positional and keyword arguments, the positional arguments must come before the keyword arguments in the function call."
   ]
  },
  {
   "cell_type": "code",
   "execution_count": 7,
   "metadata": {},
   "outputs": [
    {
     "name": "stdout",
     "output_type": "stream",
     "text": [
      "Hello Uzair you are 21 years old\n"
     ]
    }
   ],
   "source": [
    "# this is positional argument\n",
    "\n",
    "def hello(name,age):\n",
    "    print(\"Hello \" + name + \" you are \" + str(age) + \" years old\")\n",
    "\n",
    "\n",
    "hello(\"Uzair\",21)"
   ]
  },
  {
   "cell_type": "code",
   "execution_count": 8,
   "metadata": {},
   "outputs": [
    {
     "name": "stdout",
     "output_type": "stream",
     "text": [
      "Hello Uzair you are 21 years old\n"
     ]
    }
   ],
   "source": [
    "# this is keyword argument\n",
    "def hello(name,age=21):\n",
    "    print(\"Hello \" + name + \" you are \" + str(age) + \" years old\")\n",
    "\n",
    "\n",
    "hello(\"Uzair\")"
   ]
  },
  {
   "cell_type": "code",
   "execution_count": 11,
   "metadata": {},
   "outputs": [
    {
     "name": "stdout",
     "output_type": "stream",
     "text": [
      "('Uzair', 'Hussain')\n",
      "{'age': 21, 'dob': 2003}\n"
     ]
    }
   ],
   "source": [
    "# argument args and kwrags\n",
    "def hello(*args,**kwargs):\n",
    "    print(args) # this will print tuple\n",
    "    print(kwargs) # this will print dictionary\n",
    "\n",
    "# *args means it will take multiple arguments, it will take as tuple\n",
    "# **kwargs means it will take multiple keyword arguments, it will take as dictionary\n",
    "\n",
    "# hello(\"Uzair\",\"Hussain\",age=21,dob=2003)\n",
    "\n",
    "lst=list((\"Uzair\",\"Hussain\"))\n",
    "dic_val={\"age\":21,\"dob\":2003}\n",
    "\n",
    "# hello(lst,dic_val)\n",
    "hello(*lst,**dic_val) # this will unpack the list and dictionary\n",
    "# Uzair Hussain will become tuple and age and dob will become dictionary"
   ]
  },
  {
   "cell_type": "code",
   "execution_count": 13,
   "metadata": {},
   "outputs": [
    {
     "name": "stdout",
     "output_type": "stream",
     "text": [
      "('Uzair', 'Hussain', '01-09-2003')\n",
      "{'age': 21, 'dob': 2003}\n"
     ]
    }
   ],
   "source": [
    "hello(\"Uzair\",\"Hussain\",\"01-09-2003\",age=21,dob=2003)\n",
    "\n",
    "# \"Uzair\",\"Hussain\",\"01-09-2003\" this will consider as positional argument\n",
    "# age=21,dob=2003 this will consider as keyword argument"
   ]
  },
  {
   "cell_type": "code",
   "execution_count": null,
   "metadata": {},
   "outputs": [],
   "source": []
  }
 ],
 "metadata": {
  "kernelspec": {
   "display_name": "Python 3",
   "language": "python",
   "name": "python3"
  },
  "language_info": {
   "codemirror_mode": {
    "name": "ipython",
    "version": 3
   },
   "file_extension": ".py",
   "mimetype": "text/x-python",
   "name": "python",
   "nbconvert_exporter": "python",
   "pygments_lexer": "ipython3",
   "version": "3.11.1"
  }
 },
 "nbformat": 4,
 "nbformat_minor": 2
}
