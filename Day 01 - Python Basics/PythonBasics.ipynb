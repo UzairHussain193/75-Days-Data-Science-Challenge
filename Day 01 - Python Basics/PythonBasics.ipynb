{
 "cells": [
  {
   "cell_type": "markdown",
   "metadata": {},
   "source": [
    "# Day 01- Basics of Python\n",
    "This includes:\n",
    "- Hello World\n",
    "- Comments\n",
    "- Variable Declaration\n",
    "- Typecasting\n",
    "- Types of Variables\n",
    "  - Boolean\n",
    "  - Integer\n",
    "  - String\n",
    "  - Complex Numbers\n",
    "- Dynamic Typing\n",
    "- String Formatting"
   ]
  },
  {
   "cell_type": "code",
   "execution_count": 1,
   "metadata": {},
   "outputs": [
    {
     "name": "stdout",
     "output_type": "stream",
     "text": [
      "Hello World\n"
     ]
    }
   ],
   "source": [
    "print(\"Hello World\")"
   ]
  },
  {
   "cell_type": "code",
   "execution_count": 2,
   "metadata": {},
   "outputs": [
    {
     "name": "stdout",
     "output_type": "stream",
     "text": [
      "This is the beginnering of my 75 days data science challenge.\n"
     ]
    }
   ],
   "source": [
    "print(\"This is the beginnering of my 75 days data science challenge.\")"
   ]
  },
  {
   "cell_type": "markdown",
   "metadata": {},
   "source": [
    "**Comments**: Notes in the code that the interpreter ignores, used to explain the code. In Python, they start with #."
   ]
  },
  {
   "cell_type": "code",
   "execution_count": 3,
   "metadata": {},
   "outputs": [
    {
     "name": "stdout",
     "output_type": "stream",
     "text": [
      "hello world after commenting some lines\n"
     ]
    }
   ],
   "source": [
    "# Commenting and its types\n",
    "\n",
    "# Single line commenting we done with \"hash\" symbol.\n",
    "\n",
    "# Multi line commenting we done with \"triple quotes\" symbol.\n",
    "    \n",
    "'''\n",
    "    This is the multi line commenting.\n",
    "    This is the second line of multi line commenting.\n",
    "'''\n",
    "\n",
    "print(\"hello world after commenting some lines\")"
   ]
  },
  {
   "cell_type": "markdown",
   "metadata": {},
   "source": [
    "**Variable** **Declaration**: Creating a variable and assigning it a value. E.g., x = 5.\n",
    "\n"
   ]
  },
  {
   "cell_type": "code",
   "execution_count": 4,
   "metadata": {},
   "outputs": [
    {
     "data": {
      "text/plain": [
       "int"
      ]
     },
     "execution_count": 4,
     "metadata": {},
     "output_type": "execute_result"
    }
   ],
   "source": [
    "#  Variable Declaration\n",
    "a=10\n",
    "type(a)"
   ]
  },
  {
   "cell_type": "code",
   "execution_count": 5,
   "metadata": {},
   "outputs": [
    {
     "name": "stdout",
     "output_type": "stream",
     "text": [
      "10\n"
     ]
    }
   ],
   "source": [
    "print(a)"
   ]
  },
  {
   "cell_type": "code",
   "execution_count": 1,
   "metadata": {},
   "outputs": [],
   "source": [
    "tenth=10\n",
    "b=40\n",
    "c=\"uzair\""
   ]
  },
  {
   "cell_type": "code",
   "execution_count": 3,
   "metadata": {},
   "outputs": [
    {
     "name": "stdout",
     "output_type": "stream",
     "text": [
      "<class 'str'>\n",
      "<class 'int'>\n",
      "<class 'int'>\n"
     ]
    }
   ],
   "source": [
    "print(type(c))\n",
    "print(type(b))\n",
    "print(type(tenth))\n"
   ]
  },
  {
   "cell_type": "code",
   "execution_count": 4,
   "metadata": {},
   "outputs": [],
   "source": [
    "al=10"
   ]
  },
  {
   "cell_type": "code",
   "execution_count": 9,
   "metadata": {},
   "outputs": [
    {
     "name": "stdout",
     "output_type": "stream",
     "text": [
      "Uzair Hussain\n"
     ]
    }
   ],
   "source": [
    "first_name=\"Uzair\"\n",
    "last_name=\"Hussain\"\n",
    "\n",
    "print(first_name +\" \"+ last_name)"
   ]
  },
  {
   "cell_type": "markdown",
   "metadata": {},
   "source": [
    "**Types of Variables:**\n",
    "1. Boolean: Represents True or False.\n",
    "2. Integer: Whole numbers, e.g., 42.\n",
    "3. String: Sequence of characters, e.g., \"Hello\".\n",
    "4. Complex Numbers: Numbers with real and imaginary parts, e.g., 3 + 4j.\n"
   ]
  },
  {
   "cell_type": "code",
   "execution_count": 11,
   "metadata": {},
   "outputs": [
    {
     "name": "stdout",
     "output_type": "stream",
     "text": [
      "<class 'int'>\n",
      "10\n"
     ]
    }
   ],
   "source": [
    "#  Defining Integers\n",
    "a=10\n",
    "print(type(a))\n",
    "\n",
    "print(a)"
   ]
  },
  {
   "cell_type": "code",
   "execution_count": 12,
   "metadata": {},
   "outputs": [
    {
     "name": "stdout",
     "output_type": "stream",
     "text": [
      "23\n",
      "3\n",
      "230\n",
      "1.6666666666666667\n"
     ]
    }
   ],
   "source": [
    "print(a+13)\n",
    "print(a-7)\n",
    "print(a*23)\n",
    "print(a/6)"
   ]
  },
  {
   "cell_type": "code",
   "execution_count": 15,
   "metadata": {},
   "outputs": [
    {
     "name": "stdout",
     "output_type": "stream",
     "text": [
      "141\n",
      "-55\n",
      "4214\n",
      "0.4387755102040816\n",
      "43\n"
     ]
    }
   ],
   "source": [
    "a=43\n",
    "b=98\n",
    "print(a+b)\n",
    "print(a-b)\n",
    "print(a*b)\n",
    "print(a/b)\n",
    "print(a%b)"
   ]
  },
  {
   "cell_type": "code",
   "execution_count": 18,
   "metadata": {},
   "outputs": [
    {
     "name": "stdout",
     "output_type": "stream",
     "text": [
      "190.5\n",
      "234\n"
     ]
    }
   ],
   "source": [
    "#  Defining Float\n",
    "a=190.5\n",
    "print(a)\n",
    "b=234\n",
    "print(b)"
   ]
  },
  {
   "cell_type": "code",
   "execution_count": 19,
   "metadata": {},
   "outputs": [
    {
     "name": "stdout",
     "output_type": "stream",
     "text": [
      "<class 'float'>\n",
      "<class 'int'>\n"
     ]
    }
   ],
   "source": [
    "print(type(a))\n",
    "print(type(b))"
   ]
  },
  {
   "cell_type": "code",
   "execution_count": 21,
   "metadata": {},
   "outputs": [
    {
     "data": {
      "text/plain": [
       "234.0"
      ]
     },
     "execution_count": 21,
     "metadata": {},
     "output_type": "execute_result"
    }
   ],
   "source": [
    "float(b)"
   ]
  },
  {
   "cell_type": "code",
   "execution_count": 22,
   "metadata": {},
   "outputs": [
    {
     "name": "stdout",
     "output_type": "stream",
     "text": [
      "<class 'bool'>\n",
      "<class 'bool'>\n"
     ]
    }
   ],
   "source": [
    "# Boolean\n",
    "a1=True\n",
    "a2=False\n",
    "print(type(a1))\n",
    "print(type(a2))"
   ]
  },
  {
   "cell_type": "code",
   "execution_count": 24,
   "metadata": {},
   "outputs": [
    {
     "data": {
      "text/plain": [
       "True"
      ]
     },
     "execution_count": 24,
     "metadata": {},
     "output_type": "execute_result"
    }
   ],
   "source": [
    "a1 | a2  # this will perform OR(any one condition to be true) operation on a1 and a2."
   ]
  },
  {
   "cell_type": "code",
   "execution_count": 26,
   "metadata": {},
   "outputs": [
    {
     "data": {
      "text/plain": [
       "False"
      ]
     },
     "execution_count": 26,
     "metadata": {},
     "output_type": "execute_result"
    }
   ],
   "source": [
    "a1 & a2  # this will perform AND(every condition has to be true) operation on a1 and a2."
   ]
  },
  {
   "cell_type": "code",
   "execution_count": 27,
   "metadata": {},
   "outputs": [
    {
     "name": "stdout",
     "output_type": "stream",
     "text": [
      "Uzair\n",
      "Hussain\n",
      "<class 'str'>\n"
     ]
    }
   ],
   "source": [
    "# Strings\n",
    "name1=\"Uzair\"\n",
    "name2=\"Hussain\"\n",
    "print(name1)\n",
    "print(name2)\n",
    "print(type(name1))"
   ]
  },
  {
   "cell_type": "code",
   "execution_count": 28,
   "metadata": {},
   "outputs": [
    {
     "data": {
      "text/plain": [
       "'Uzair Hussain Shaikh'"
      ]
     },
     "execution_count": 28,
     "metadata": {},
     "output_type": "execute_result"
    }
   ],
   "source": [
    "name1 + \" \" + name2 + \" \" + \"Shaikh\""
   ]
  },
  {
   "cell_type": "code",
   "execution_count": 29,
   "metadata": {},
   "outputs": [
    {
     "data": {
      "text/plain": [
       "'Uzair193'"
      ]
     },
     "execution_count": 29,
     "metadata": {},
     "output_type": "execute_result"
    }
   ],
   "source": [
    "name1 + str(193)"
   ]
  },
  {
   "cell_type": "code",
   "execution_count": 31,
   "metadata": {},
   "outputs": [
    {
     "name": "stdout",
     "output_type": "stream",
     "text": [
      "(1-2.3j)\n"
     ]
    }
   ],
   "source": [
    "# Complex Numbers\n",
    "i=1.0-2.3j\n",
    "print(i)"
   ]
  },
  {
   "cell_type": "code",
   "execution_count": 35,
   "metadata": {},
   "outputs": [
    {
     "name": "stdout",
     "output_type": "stream",
     "text": [
      "Real Number:  1.0 \n",
      "Imaginary Number:  -2.3\n"
     ]
    }
   ],
   "source": [
    "print(\"Real Number: \",i.real,\"\\nImaginary Number: \", i.imag)"
   ]
  },
  {
   "cell_type": "markdown",
   "metadata": {},
   "source": [
    "**Dynamic** **Typing**: Python variables can change type automatically. E.g., x = 10 then x = \"Hello\"."
   ]
  },
  {
   "cell_type": "code",
   "execution_count": 37,
   "metadata": {},
   "outputs": [
    {
     "name": "stdout",
     "output_type": "stream",
     "text": [
      "193\n",
      "Khan\n"
     ]
    }
   ],
   "source": [
    "# Dynamic Typing\n",
    "x=193\n",
    "print(x)\n",
    "\n",
    "x=\"Khan\"\n",
    "\n",
    "print(x)"
   ]
  },
  {
   "cell_type": "code",
   "execution_count": 39,
   "metadata": {},
   "outputs": [],
   "source": [
    "# Strong Typing\n",
    "a=\"Uzair\""
   ]
  },
  {
   "cell_type": "code",
   "execution_count": 40,
   "metadata": {},
   "outputs": [
    {
     "data": {
      "text/plain": [
       "'Uzair193'"
      ]
     },
     "execution_count": 40,
     "metadata": {},
     "output_type": "execute_result"
    }
   ],
   "source": [
    "a+str(193)"
   ]
  },
  {
   "cell_type": "markdown",
   "metadata": {},
   "source": [
    "**String Formatting**: Inserting variables into strings using formats like f-strings. E.g., f\"Hello, {name}\"."
   ]
  },
  {
   "cell_type": "code",
   "execution_count": 43,
   "metadata": {},
   "outputs": [
    {
     "name": "stdout",
     "output_type": "stream",
     "text": [
      "The value of a is:  193\n"
     ]
    }
   ],
   "source": [
    "# String Formatting\n",
    "a=193\n",
    "print(\"The value of a is: \",a)"
   ]
  },
  {
   "cell_type": "code",
   "execution_count": 49,
   "metadata": {},
   "outputs": [
    {
     "name": "stdout",
     "output_type": "stream",
     "text": [
      "My first name is Uzair and last name is Shaikh\n",
      "My first name is : Uzair \n",
      "middle name is : Hussain\n",
      "last name is : Shaikh\n"
     ]
    }
   ],
   "source": [
    "first_name=\"Uzair\"\n",
    "middle_name=\"Hussain\"\n",
    "last_name=\"Shaikh\"\n",
    "print(\"My first name is {a} and last name is {b}\".format(a=first_name,b=last_name))\n",
    "print(\"My first name is : {a} \\nmiddle name is : {b}\\nlast name is : {c}\".format(a=first_name,b=middle_name,c=last_name))"
   ]
  },
  {
   "cell_type": "code",
   "execution_count": 51,
   "metadata": {},
   "outputs": [
    {
     "name": "stdout",
     "output_type": "stream",
     "text": [
      "46\n"
     ]
    }
   ],
   "source": [
    "# Input Function\n",
    "a=input(\"Enter the value of a: \")\n",
    "b=input(\"Enter the value of b: \")\n",
    "print(int(a)+int(b))\n"
   ]
  }
 ],
 "metadata": {
  "kernelspec": {
   "display_name": "Python 3",
   "language": "python",
   "name": "python3"
  },
  "language_info": {
   "codemirror_mode": {
    "name": "ipython",
    "version": 3
   },
   "file_extension": ".py",
   "mimetype": "text/x-python",
   "name": "python",
   "nbconvert_exporter": "python",
   "pygments_lexer": "ipython3",
   "version": "3.11.1"
  }
 },
 "nbformat": 4,
 "nbformat_minor": 2
}
