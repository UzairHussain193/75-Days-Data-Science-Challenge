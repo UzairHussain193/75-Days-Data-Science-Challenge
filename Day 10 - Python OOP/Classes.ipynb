{
 "cells": [
  {
   "cell_type": "markdown",
   "metadata": {},
   "source": [
    "# Day 10 - Python OOP\n",
    "\n",
    "This includes:\n",
    "- Classes\n",
    "- Consstructors\n",
    "- Attributes\n",
    "- Methods"
   ]
  },
  {
   "cell_type": "markdown",
   "metadata": {},
   "source": [
    "- **Classes** are the real world entity"
   ]
  },
  {
   "cell_type": "markdown",
   "metadata": {},
   "source": [
    "### Object-Oriented Programming (OOP)\n",
    "\n",
    "Object-Oriented Programming (OOP) is a programming paradigm that uses \"objects\" to design applications and computer programs. In Python, OOP allows us to create classes and objects, encapsulate data, and define behavior through methods.\n",
    "\n",
    "### Classes\n",
    "A class in Python is a blueprint for creating objects. It defines a set of attributes and methods that the created objects will have.\n",
    "\n",
    "**Example:**\n",
    "```python\n",
    "class Car:\n",
    "    pass\n",
    "```\n",
    "Here, `Car` is a class that doesn't have any attributes or methods yet.\n",
    "\n",
    "\n",
    "#### We use classes becuase:\n",
    "1. It helps in `code reusability` - means we can use the same class in different programs\n",
    "2. It helps in `code readability` - means we can understand the code easily\n",
    "3. It helps in `code maintenance` - means we can update the code easily\n",
    "4. It helps in `code testing` - means we can test the code easily\n",
    "5. It helps in `code debugging` - means we can debug the code easily\n",
    "6. It helps in `code scalability` - means we can scale the code easily\n",
    "7. It helps in `code security` - means we can secure the code easily\n",
    "8. It helps in `code optimization` - means we can optimize the code easily\n",
    "9. It helps in `code performance` - means we can improve the performance of the code easily\n",
    "10. It helps in `code documentation` - means we can document the code easily\n",
    "\n",
    "\n",
    "### Attributes\n",
    "Attributes are variables that belong to an object. They are defined within the constructor or directly in the class.\n",
    "\n",
    "**Example:**\n",
    "```python\n",
    "class Car:\n",
    "    def __init__(self, make, model, year):\n",
    "        self.make = make\n",
    "        self.model = model\n",
    "        self.year = year\n",
    "\n",
    "my_car = Car(\"Toyota\", \"Corolla\", 2020)\n",
    "print(my_car.make)  # Output: Toyota\n",
    "print(my_car.model)  # Output: Corolla\n",
    "print(my_car.year)  # Output: 2020\n",
    "```\n",
    "In this example, `make`, `model`, and `year` are attributes of the `my_car` object.\n",
    "\n",
    "### Methods\n",
    "Methods are functions defined within a class that describe the behaviors of the objects created from the class. They can operate on the object's attributes.\n",
    "\n",
    "**Example:**\n",
    "```python\n",
    "class Car:\n",
    "    def __init__(self, make, model, year):\n",
    "        self.make = make\n",
    "        self.model = model\n",
    "        self.year = year\n",
    "\n",
    "    def start_engine(self):\n",
    "        print(f\"The {self.make} {self.model}'s engine has started.\")\n",
    "\n",
    "    def stop_engine(self):\n",
    "        print(f\"The {self.make} {self.model}'s engine has stopped.\")\n",
    "\n",
    "my_car = Car(\"Toyota\", \"Corolla\", 2020)\n",
    "my_car.start_engine()  # Output: The Toyota Corolla's engine has started.\n",
    "my_car.stop_engine()   # Output: The Toyota Corolla's engine has stopped.\n",
    "```\n",
    "Here, `start_engine` and `stop_engine` are methods that define the behavior of the `Car` objects.\n",
    "\n",
    "### Complete Example\n",
    "Combining all these concepts, let's create a more comprehensive example:\n",
    "\n",
    "```python\n",
    "class Car:\n",
    "    def __init__(self, make, model, year):\n",
    "        self.make = make\n",
    "        self.model = model\n",
    "        self.year = year\n",
    "        self.running = False\n",
    "\n",
    "    def start_engine(self):\n",
    "        if not self.running:\n",
    "            self.running = True\n",
    "            print(f\"The {self.make} {self.model}'s engine has started.\")\n",
    "        else:\n",
    "            print(f\"The {self.make} {self.model}'s engine is already running.\")\n",
    "\n",
    "    def stop_engine(self):\n",
    "        if self.running:\n",
    "            self.running = False\n",
    "            print(f\"The {self.make} {self.model}'s engine has stopped.\")\n",
    "        else:\n",
    "            print(f\"The {self.make} {self.model}'s engine is already off.\")\n",
    "\n",
    "    def display_info(self):\n",
    "        print(f\"Car Info: {self.year} {self.make} {self.model}\")\n",
    "\n",
    "# Create an instance of Car\n",
    "my_car = Car(\"Toyota\", \"Corolla\", 2020)\n",
    "\n",
    "# Display car information\n",
    "my_car.display_info()  # Output: Car Info: 2020 Toyota Corolla\n",
    "\n",
    "# Start and stop the engine\n",
    "my_car.start_engine()  # Output: The Toyota Corolla's engine has started.\n",
    "my_car.start_engine()  # Output: The Toyota Corolla's engine is already running.\n",
    "my_car.stop_engine()   # Output: The Toyota Corolla's engine has stopped.\n",
    "my_car.stop_engine()   # Output: The Toyota Corolla's engine is already off.\n",
    "```\n",
    "\n",
    "In this example, we have:\n",
    "- Defined a `Car` class with attributes `make`, `model`, `year`, and `running`.\n",
    "- Used the `__init__` constructor to initialize these attributes.\n",
    "- Defined methods `start_engine`, `stop_engine`, and `display_info` to operate on these attributes and provide behaviors for the `Car` objects."
   ]
  },
  {
   "cell_type": "code",
   "execution_count": 2,
   "metadata": {},
   "outputs": [
    {
     "name": "stdout",
     "output_type": "stream",
     "text": [
      "<__main__.Car object at 0x00000138384EEE50>\n",
      "<__main__.Car object at 0x00000138384C3E50>\n",
      "BMW\n",
      "BMW\n"
     ]
    }
   ],
   "source": [
    "class Car:\n",
    "    name=\"BMW\"\n",
    "\n",
    "\n",
    "car1=Car()\n",
    "car2=Car()\n",
    "\n",
    "\n",
    "print(car1)\n",
    "print(car2)\n",
    "\n",
    "print(car1.name)\n",
    "print(car2.name)"
   ]
  },
  {
   "cell_type": "code",
   "execution_count": 6,
   "metadata": {},
   "outputs": [],
   "source": [
    "# this process of assigning attributes to the class is very pathetic\n",
    "# because it requires manual updation\n",
    "\n",
    "car1.windows=4\n",
    "car1.tyres=4\n",
    "car1.engine=\"Diesel\"\n",
    "\n",
    "car2.windows=6\n",
    "car2.tyres=6\n",
    "car2.engine=\"Petrol\"\n"
   ]
  },
  {
   "cell_type": "code",
   "execution_count": 8,
   "metadata": {},
   "outputs": [
    {
     "name": "stdout",
     "output_type": "stream",
     "text": [
      "Diesel\n",
      "Petrol\n"
     ]
    }
   ],
   "source": [
    "print(car1.engine)\n",
    "print(car2.engine)\n"
   ]
  },
  {
   "cell_type": "code",
   "execution_count": 9,
   "metadata": {},
   "outputs": [
    {
     "name": "stdout",
     "output_type": "stream",
     "text": [
      "['__class__', '__delattr__', '__dict__', '__dir__', '__doc__', '__eq__', '__format__', '__ge__', '__getattribute__', '__getstate__', '__gt__', '__hash__', '__init__', '__init_subclass__', '__le__', '__lt__', '__module__', '__ne__', '__new__', '__reduce__', '__reduce_ex__', '__repr__', '__setattr__', '__sizeof__', '__str__', '__subclasshook__', '__weakref__', 'engine', 'name', 'tyres', 'windows']\n"
     ]
    }
   ],
   "source": [
    "print(dir(car1)) \n",
    "# this will show all the attributes of the class, dir means directory"
   ]
  },
  {
   "cell_type": "code",
   "execution_count": 10,
   "metadata": {},
   "outputs": [
    {
     "name": "stdout",
     "output_type": "stream",
     "text": [
      "['__class__', '__delattr__', '__dict__', '__dir__', '__doc__', '__eq__', '__format__', '__ge__', '__getattribute__', '__getstate__', '__gt__', '__hash__', '__init__', '__init_subclass__', '__le__', '__lt__', '__module__', '__ne__', '__new__', '__reduce__', '__reduce_ex__', '__repr__', '__setattr__', '__sizeof__', '__str__', '__subclasshook__', '__weakref__', 'engine', 'name', 'tyres', 'windows']\n"
     ]
    }
   ],
   "source": [
    "print(dir(car2))\n",
    "# this will show all the attributes of the class, dir means directory"
   ]
  },
  {
   "cell_type": "markdown",
   "metadata": {},
   "source": [
    "```\n",
    "Above is the worst practice to create classes and work with object.\n",
    "```\n",
    "\n",
    "```\n",
    "Now we will see using constructors and other inbuilt methods, the best practice to create and work with classes\n",
    "```\n"
   ]
  },
  {
   "cell_type": "markdown",
   "metadata": {},
   "source": [
    "\n",
    "### Constructors\n",
    "A constructor is a special method called when an object is instantiated. In Python, the constructor is defined using the `__init__` method.\n",
    "\n",
    "**Example:**\n",
    "```python\n",
    "class Car:\n",
    "    def __init__(self, make, model, year):\n",
    "        self.make = make\n",
    "        self.model = model\n",
    "        self.year = year\n",
    "```\n",
    "Here, the `__init__` method initializes the object's attributes `make`, `model`, and `year`.\n",
    "\n",
    "All classes have a function called __init__(), which is always executed when the class is being initiated."
   ]
  },
  {
   "cell_type": "code",
   "execution_count": 27,
   "metadata": {},
   "outputs": [
    {
     "name": "stdout",
     "output_type": "stream",
     "text": [
      "\n",
      "The Car Engine is: Petrol\n",
      "The Car Engine is: Diesel\n",
      "\n",
      "The Car1 has tyres: 4 \n",
      "The Car2 has tyres: 6 \n",
      "\n",
      "The Car1 has windows: 4 \n",
      "The Car2 has windows: 6 \n",
      "\n",
      "\n",
      "The car type is Petrol \n",
      "The car type is Diesel \n",
      "\n",
      "\n",
      "The car type is Electric \n",
      "The car type is Solar \n"
     ]
    }
   ],
   "source": [
    "class Car:\n",
    "    # this is constructor, which is used to assign the attributes to the class\n",
    "    def __init__(self,windows,tyres,engine): \n",
    "        # this is a constructor, which takes the attributes of the class, and assigns them to the class, whicha are self, windows, tyres, engine\n",
    "        # self means the object of the class, which is created, and the attributes are assigned to it\n",
    "        self.windows=windows\n",
    "        self.tyres=tyres\n",
    "        self.engine=engine\n",
    "\n",
    "    def self_drive(self):\n",
    "        print(\"The car type is {} \".format(self.engine))\n",
    "\n",
    "    def self_driving(self,engine):\n",
    "        print(\"The car type is {} \".format(engine))\n",
    "\n",
    "car1=Car(4,4,\"Petrol\")\n",
    "car2=Car(6,6,\"Diesel\")\n",
    "\n",
    "print(\"\\nThe Car Engine is: \" + car1.engine)\n",
    "print(\"The Car Engine is: \" + car2.engine)\n",
    "\n",
    "print(\"\\nThe Car1 has tyres: {} \".format(car1.tyres))\n",
    "print(\"The Car2 has tyres: {} \".format(car2.tyres))\n",
    "\n",
    "print(\"\\nThe Car1 has windows: {} \".format(car1.windows))\n",
    "print(\"The Car2 has windows: {} \".format(car2.windows))\n",
    "\n",
    "print(\"\\n\")\n",
    "\n",
    "car1.self_drive()\n",
    "car2.self_drive()\n",
    "\n",
    "print(\"\\n\")\n",
    "\n",
    "car1.self_driving(\"Electric\")\n",
    "car2.self_driving(\"Solar\")\n"
   ]
  }
 ],
 "metadata": {
  "kernelspec": {
   "display_name": "Python 3",
   "language": "python",
   "name": "python3"
  },
  "language_info": {
   "codemirror_mode": {
    "name": "ipython",
    "version": 3
   },
   "file_extension": ".py",
   "mimetype": "text/x-python",
   "name": "python",
   "nbconvert_exporter": "python",
   "pygments_lexer": "ipython3",
   "version": "3.11.1"
  }
 },
 "nbformat": 4,
 "nbformat_minor": 2
}
