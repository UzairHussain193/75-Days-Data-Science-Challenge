{
 "cells": [
  {
   "cell_type": "markdown",
   "metadata": {},
   "source": [
    "# Day 10 cont. - Python Constructors\n",
    "\n",
    "This includes:\n",
    "- Constructors\n",
    "- Multiple Constructors"
   ]
  },
  {
   "cell_type": "code",
   "execution_count": 6,
   "metadata": {},
   "outputs": [
    {
     "ename": "SyntaxError",
     "evalue": "invalid syntax (3867568066.py, line 16)",
     "output_type": "error",
     "traceback": [
      "\u001b[1;36m  Cell \u001b[1;32mIn[6], line 16\u001b[1;36m\u001b[0m\n\u001b[1;33m    print(dog.)\u001b[0m\n\u001b[1;37m              ^\u001b[0m\n\u001b[1;31mSyntaxError\u001b[0m\u001b[1;31m:\u001b[0m invalid syntax\n"
     ]
    }
   ],
   "source": [
    "class Animal:\n",
    "    def __init__(self, name, species):\n",
    "        self.name = name\n",
    "        self.species = species\n",
    "\n",
    "    def __init__(self, name, species, age):\n",
    "        self.name = name\n",
    "        self.species = species\n",
    "        self.age = age\n",
    "\n",
    "    def make_sound(self,sound):\n",
    "        print(\"This animal is {} and says {} \".format(self.name,sound))\n",
    "\n",
    "\n",
    "dog=Animal(\"dog\",\"mammal\",3)\n",
    "print(dog)\n",
    "\n",
    "# We can not create multiple constructors in python, using this methods\n",
    "# becuase python only consider the last constructor\n",
    "# so we can use default values to solve this problem"
   ]
  },
  {
   "cell_type": "markdown",
   "metadata": {},
   "source": [
    "---------------------------------------------------------------------------\n",
    "TypeError                                 Traceback (most recent call last)\n",
    "Cell In[4], line 15\n",
    "     11     def make_sound(self,sound):\n",
    "     12         print(\"This animal is {} and says {} \".format(self.name,sound))\n",
    "---> 15 dog=Animal(\"dog\",\"mammal\")\n",
    "     16 print(dog)\n",
    "\n",
    "TypeError: Animal.__init__() missing 1 required positional argument: 'age'\n",
    "\n",
    "\n",
    "- This error means the second constructor is overriding the first one, and we can not create multiple constructors in python."
   ]
  },
  {
   "cell_type": "code",
   "execution_count": 15,
   "metadata": {},
   "outputs": [
    {
     "name": "stdout",
     "output_type": "stream",
     "text": [
      "This animal is dog and says bark \n",
      "The name of animal is dog and species is mammal and age is 3\n"
     ]
    }
   ],
   "source": [
    "class Animal:\n",
    "    def __init__(self, *args):\n",
    "        # this *args is keyword argument which is used to pass multiple arguments\n",
    "        if len(args)==1:\n",
    "            self.name = args[0]\n",
    "        elif len(args)==2:\n",
    "            self.name = args[0]\n",
    "            self.species = args[1]\n",
    "        elif len(args)==3:\n",
    "            self.name = args[0]\n",
    "            self.species = args[1]\n",
    "            self.age = args[2]\n",
    "\n",
    "    def make_sound(self,sound):\n",
    "        print(\"This animal is {} and says {} \".format(self.name,sound))\n",
    "# Using this technique we can create multiple constructors\n",
    "\n",
    "\n",
    "dog=Animal(\"dog\")\n",
    "dog=Animal(\"dog\",\"mammal\")\n",
    "dog=Animal(\"dog\",\"mammal\",3)\n",
    "\n",
    "\n",
    "dog.make_sound(\"bark\")\n",
    "\n",
    "print(\"The name of animal is {} and species is {} and age is {}\".format(dog.name,dog.species,dog.age))\n",
    "# print(dog.name)\n",
    "# print(dog.species)\n",
    "# print(dog.age)\n"
   ]
  },
  {
   "cell_type": "code",
   "execution_count": 16,
   "metadata": {},
   "outputs": [
    {
     "name": "stdout",
     "output_type": "stream",
     "text": [
      "This animal is snake and says hiss \n",
      "The name of animal is snake and species is reptile and age is 2\n"
     ]
    }
   ],
   "source": [
    "\n",
    "snake=Animal(\"snake\")\n",
    "snake=Animal(\"snake\",\"reptile\")\n",
    "snake=Animal(\"snake\",\"reptile\",2)\n",
    "\n",
    "snake.make_sound(\"hiss\")\n",
    "\n",
    "print(\"The name of animal is {} and species is {} and age is {}\".format(snake.name,snake.species,snake.age))"
   ]
  }
 ],
 "metadata": {
  "kernelspec": {
   "display_name": "Python 3",
   "language": "python",
   "name": "python3"
  },
  "language_info": {
   "codemirror_mode": {
    "name": "ipython",
    "version": 3
   },
   "file_extension": ".py",
   "mimetype": "text/x-python",
   "name": "python",
   "nbconvert_exporter": "python",
   "pygments_lexer": "ipython3",
   "version": "3.11.1"
  }
 },
 "nbformat": 4,
 "nbformat_minor": 2
}
