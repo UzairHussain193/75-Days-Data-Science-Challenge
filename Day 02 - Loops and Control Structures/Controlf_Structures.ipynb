{
 "cells": [
  {
   "cell_type": "markdown",
   "metadata": {},
   "source": [
    "# Day 02- Loops and Control Structures in Python\n",
    "\n",
    "This includes:\n",
    "- Control Structures\n",
    "  - if-else\n",
    "  - elif\n",
    "- Loops\n",
    "  - for\n",
    "  - while\n",
    "  - do-while"
   ]
  },
  {
   "cell_type": "markdown",
   "metadata": {},
   "source": [
    "### Control Structures\n",
    "- Control structures are constructs that dictate the flow of control in a program, allowing for decision-making, looping, and branching. They enable you to control the execution of different parts of your code based on certain conditions.\n",
    "\n",
    "#### if-else\n",
    "- The if-else statement is a control structure that allows you to execute a block of code if a specified condition is true. If the condition is false, the code in the else block is executed instead.\n",
    "\n",
    "```python\n",
    "if condition:\n",
    "    # Code to execute if condition is true\n",
    "else:\n",
    "    # Code to execute if condition is false\n",
    "```    "
   ]
  },
  {
   "cell_type": "markdown",
   "metadata": {},
   "source": [
    "## If statment"
   ]
  },
  {
   "cell_type": "code",
   "execution_count": 7,
   "metadata": {},
   "outputs": [
    {
     "name": "stdout",
     "output_type": "stream",
     "text": [
      "The number 2.0 : is even\n",
      "End of the program\n"
     ]
    }
   ],
   "source": [
    "# If statement\n",
    "\n",
    "num=input(\"Enter a number: \")\n",
    "num=float(num)\n",
    "\n",
    "if(num%2 == 0):\n",
    "    print(\"The number {a} : is even\".format(a=num))\n",
    "\n",
    "print(\"End of the program\")"
   ]
  },
  {
   "cell_type": "code",
   "execution_count": 8,
   "metadata": {},
   "outputs": [
    {
     "name": "stdout",
     "output_type": "stream",
     "text": [
      "The number 43.0 : is odd\n"
     ]
    }
   ],
   "source": [
    "# if-else statement\n",
    "\n",
    "num=input(\"Enter a number: \")\n",
    "num=float(num)\n",
    "\n",
    "if(num%2 == 0):\n",
    "    print(\"The number {a} : is even\".format(a=num))\n",
    "else:\n",
    "    print(\"The number {a} : is odd\".format(a=num))"
   ]
  },
  {
   "cell_type": "code",
   "execution_count": 9,
   "metadata": {},
   "outputs": [
    {
     "name": "stdout",
     "output_type": "stream",
     "text": [
      "You are major.\n"
     ]
    }
   ],
   "source": [
    "# Age form\n",
    "\n",
    "age=input(\"Enter your age: \")\n",
    "age=float(age)\n",
    "\n",
    "if(age<18):\n",
    "    print(\"You are minor.\")\n",
    "else:\n",
    "    print(\"You are major.\")"
   ]
  },
  {
   "cell_type": "markdown",
   "metadata": {},
   "source": [
    "#### elif\n",
    "The elif (short for \"else if\") statement is used in conjunction with if-else to check multiple conditions sequentially. It allows you to specify a new condition if the previous if or elif condition is false.\n",
    "\n",
    "```python\n",
    "if condition1:\n",
    "    # Code to execute if condition1 is true\n",
    "elif condition2:\n",
    "    # Code to execute if condition2 is true\n",
    "else:\n",
    "    # Code to execute if none of the above conditions are true"
   ]
  },
  {
   "cell_type": "code",
   "execution_count": 11,
   "metadata": {},
   "outputs": [
    {
     "name": "stdout",
     "output_type": "stream",
     "text": [
      "Senior Mid Age\n"
     ]
    }
   ],
   "source": [
    "# if-else elif statement\n",
    "# age form\n",
    "\n",
    "age=input(\"Enter your age: \")\n",
    "age=float(age)\n",
    "\n",
    "if(age<18):\n",
    "    print(\"Minor Age\")\n",
    "elif(age>=18 and age<45):\n",
    "    print(\"Mid Age\")\n",
    "elif(age>=45 and age<60):\n",
    "    print(\"Senior Mid Age\")\n",
    "else:\n",
    "    print(\"Senior Citizen\")"
   ]
  },
  {
   "cell_type": "code",
   "execution_count": 13,
   "metadata": {},
   "outputs": [
    {
     "name": "stdout",
     "output_type": "stream",
     "text": [
      "Minor Age\n",
      "You are a kid\n"
     ]
    }
   ],
   "source": [
    "# nested if-else statement\n",
    "\n",
    "age=input(\"Enter your age: \")\n",
    "age=float(age)\n",
    "\n",
    "if(age<18):\n",
    "    print(\"Minor Age\")\n",
    "    if(age<10):\n",
    "        print(\"You are a kid\")\n",
    "    else:\n",
    "        print(\"You are a teenager\")\n",
    "elif(age>=18 and age<45):\n",
    "    print(\"Mid Age\")\n",
    "elif(age>=45 and age<60):\n",
    "    print(\"Senior Mid Age\")\n",
    "else:\n",
    "    print(\"Senior Citizen\")"
   ]
  },
  {
   "cell_type": "markdown",
   "metadata": {},
   "source": [
    "## Loops\n",
    "- Loops are control structures that repeat a block of code multiple times, either a specified number of times or until a condition is met.\n",
    "\n",
    "#### for\n",
    "- The for loop iterates over a sequence (like a list, tuple, or range) and executes a block of code for each element in the sequence.\n",
    "\n",
    "```python\n",
    "for item in sequence:\n",
    "    # Code to execute for each item\n"
   ]
  },
  {
   "cell_type": "code",
   "execution_count": 15,
   "metadata": {},
   "outputs": [
    {
     "name": "stdout",
     "output_type": "stream",
     "text": [
      "1\n",
      "4\n",
      "9\n",
      "16\n",
      "25\n",
      "36\n",
      "49\n",
      "64\n",
      "81\n",
      "100\n"
     ]
    }
   ],
   "source": [
    "# For loop\n",
    "lst=[1,2,3,4,5,6,7,8,9,10]\n",
    "for i in lst:\n",
    "    print(i**2) # power of the number i"
   ]
  },
  {
   "cell_type": "code",
   "execution_count": 17,
   "metadata": {},
   "outputs": [
    {
     "name": "stdout",
     "output_type": "stream",
     "text": [
      "The sum of all elements in the list 1 is:  55\n",
      "The sum of all elements in the list 2 is:  272\n"
     ]
    }
   ],
   "source": [
    "# find the sum of all elements in the llist\n",
    "# sum variables to intitilize to zero \n",
    "sum1=0\n",
    "sum2=0\n",
    "lst=[1,2,3,4,5,6,7,8,9,10]\n",
    "\n",
    "# list of even numbers from 2 to 32\n",
    "lst1=[2,4,6,8,10,12,14,16,18,20,22,24,26,28,30,32]\n",
    "\n",
    "for i in lst:\n",
    "    sum1=sum1+i\n",
    "\n",
    "for i in lst1:\n",
    "    sum2=sum2+i\n",
    "\n",
    "\n",
    "print(\"The sum of all elements in the list 1 is: \",sum1)\n",
    "print(\"The sum of all elements in the list 2 is: \",sum2)\n"
   ]
  },
  {
   "cell_type": "code",
   "execution_count": 21,
   "metadata": {},
   "outputs": [
    {
     "name": "stdout",
     "output_type": "stream",
     "text": [
      "Even sum : 12 \n",
      "Odd sum: 16\n"
     ]
    }
   ],
   "source": [
    "# even and odd sums\n",
    "# lst=[1,2,3,4,5,6,7,8,9,10,11,12,13,14,15,16,17,18]\n",
    "lst=[1,2,3,4,5,6,7]\n",
    "evensum=0\n",
    "oddsum=0\n",
    "\n",
    "for i in lst:\n",
    "    if(i%2==0):\n",
    "        evensum=evensum+i\n",
    "    else:\n",
    "        oddsum=oddsum+i\n",
    "\n",
    "# print(\"The sum of all even numbers in the list is: \",evensum)\n",
    "# print(\"The sum of all odd numbers in the list is: \",oddsum)\n",
    "\n",
    "print(\"Even sum : {a} \\nOdd sum: {b}\".format(a=evensum,b=oddsum))"
   ]
  },
  {
   "cell_type": "markdown",
   "metadata": {},
   "source": [
    "#### while\n",
    "- The while loop repeatedly executes a block of code as long as a specified condition is true. The condition is checked before each iteration.\n",
    "\n",
    "```python\n",
    "while condition:\n",
    "    # Code to execute as long as condition is true"
   ]
  },
  {
   "cell_type": "code",
   "execution_count": 25,
   "metadata": {},
   "outputs": [
    {
     "name": "stdout",
     "output_type": "stream",
     "text": [
      "0\n",
      "1\n",
      "2\n",
      "3\n",
      "4\n",
      "5\n",
      "6\n",
      "7\n",
      "8\n",
      "9\n",
      "10\n"
     ]
    }
   ],
   "source": [
    "# While Loop\n",
    "\n",
    "i=0\n",
    "while(i<=10):\n",
    "    print(i)\n",
    "    i=i+1"
   ]
  },
  {
   "cell_type": "code",
   "execution_count": 33,
   "metadata": {},
   "outputs": [
    {
     "name": "stdout",
     "output_type": "stream",
     "text": [
      "Square of even number:  0\n",
      "\t\t\t\t\tCube of odd number:  1\n",
      "Square of even number:  4\n",
      "\t\t\t\t\tCube of odd number:  27\n",
      "Square of even number:  16\n",
      "\t\t\t\t\tCube of odd number:  125\n",
      "Square of even number:  36\n",
      "\t\t\t\t\tCube of odd number:  343\n",
      "Square of even number:  64\n",
      "\t\t\t\t\tCube of odd number:  729\n",
      "Square of even number:  100\n",
      "\n",
      "\n",
      "Even sum : 30 \n",
      "Odd sum: 25\n"
     ]
    }
   ],
   "source": [
    "# even sum and odd sum\n",
    "# Square of even numbers and cube of odd numbers\n",
    "\n",
    "evensum=0\n",
    "oddsum=0\n",
    "i=0\n",
    "while(i<=10):\n",
    "    if(i%2==0):\n",
    "        print(\"Square of even number: \",i**2)\n",
    "        evensum=evensum+i\n",
    "    else:\n",
    "        print(\"\\t\\t\\t\\t\\tCube of odd number: \",i**3)\n",
    "        oddsum=oddsum+i\n",
    "    i=i+1\n",
    "\n",
    "print(\"\\n\\nEven sum : {a} \\nOdd sum: {b}\".format(a=evensum,b=oddsum))\n"
   ]
  },
  {
   "cell_type": "code",
   "execution_count": 36,
   "metadata": {},
   "outputs": [
    {
     "name": "stdout",
     "output_type": "stream",
     "text": [
      "0\n",
      "1\n",
      "2\n",
      "3\n",
      "4\n",
      "5\n",
      "6\n"
     ]
    }
   ],
   "source": [
    "# break statement\n",
    "# we will break loop on x=7\n",
    "\n",
    "# even sum and odd sum\n",
    "# Square of even numbers and cube of odd numbers\n",
    "\n",
    "i=0\n",
    "while(i<=10):\n",
    "    if(i==7):\n",
    "        break\n",
    "    print(i)\n",
    "    i=i+1\n"
   ]
  },
  {
   "cell_type": "code",
   "execution_count": 45,
   "metadata": {},
   "outputs": [
    {
     "name": "stdout",
     "output_type": "stream",
     "text": [
      "1\n",
      "2\n",
      "3\n",
      "4\n",
      "5\n",
      "6\n",
      "7\n",
      "8\n",
      "9\n",
      "10\n",
      "11\n",
      "12\n",
      "13\n",
      "14\n",
      "15\n"
     ]
    }
   ],
   "source": [
    "# contine statement\n",
    "i=0\n",
    "while(i<15):\n",
    "    i=i+1\n",
    "    print(i)\n",
    "    if(i==7):\n",
    "        continue\n",
    "\n"
   ]
  }
 ],
 "metadata": {
  "kernelspec": {
   "display_name": "Python 3",
   "language": "python",
   "name": "python3"
  },
  "language_info": {
   "codemirror_mode": {
    "name": "ipython",
    "version": 3
   },
   "file_extension": ".py",
   "mimetype": "text/x-python",
   "name": "python",
   "nbconvert_exporter": "python",
   "pygments_lexer": "ipython3",
   "version": "3.11.1"
  }
 },
 "nbformat": 4,
 "nbformat_minor": 2
}
