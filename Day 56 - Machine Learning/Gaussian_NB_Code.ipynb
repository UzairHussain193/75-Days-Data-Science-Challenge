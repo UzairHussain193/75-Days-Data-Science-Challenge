{
 "cells": [
  {
   "cell_type": "markdown",
   "metadata": {},
   "source": [
    "## Day 58 -  ML Udacity"
   ]
  },
  {
   "cell_type": "markdown",
   "metadata": {},
   "source": [
    "### Sklearn Naive Bayes - Gaussian Naive Bayes"
   ]
  },
  {
   "cell_type": "code",
   "execution_count": 5,
   "metadata": {},
   "outputs": [],
   "source": [
    "import numpy as np\n",
    "import pandas as pd\n",
    "import matplotlib.pyplot as plt\n",
    "import seaborn as sns\n"
   ]
  },
  {
   "cell_type": "code",
   "execution_count": 8,
   "metadata": {},
   "outputs": [
    {
     "name": "stdout",
     "output_type": "stream",
     "text": [
      "[1]\n",
      "[1]\n"
     ]
    }
   ],
   "source": [
    "# Create an array X with feature values. Each element is a feature vector with two features.\n",
    "X = np.array([[-1, -1], [-2, -1], [-3, -2], [1, 1], [2, 1], [3, 2]])\n",
    "\n",
    "# Create an array Y with labels corresponding to each feature vector in X. There are two classes: 1 and 2.\n",
    "Y = np.array([1, 1, 1, 2, 2, 2])\n",
    "\n",
    "# Import the Gaussian Naive Bayes classifier from scikit-learn\n",
    "from sklearn.naive_bayes import GaussianNB\n",
    "\n",
    "# Create an instance of the GaussianNB classifier\n",
    "clf = GaussianNB()\n",
    "\n",
    "# Train the classifier using the fit method with the feature vectors X and labels Y\n",
    "clf.fit(X, Y)\n",
    "\n",
    "# Predict the class of a new sample with feature vector [-0.8, -1]\n",
    "print(clf.predict([[-0.8, -1]]))  # Output will be the predicted class for the sample\n",
    "\n",
    "# Create another instance of the GaussianNB classifier for partial fitting\n",
    "clf_pf = GaussianNB()\n",
    "\n",
    "# Train the classifier using the partial_fit method. This method is useful for online learning,\n",
    "# where data is provided in chunks. The np.unique(Y) part provides the unique classes in Y.\n",
    "clf_pf.partial_fit(X, Y, np.unique(Y))\n",
    "\n",
    "# Predict the class of the same new sample using the partially trained classifier\n",
    "print(clf_pf.predict([[-0.8, -1]]))  # Output will be the predicted class for the sample"
   ]
  },
  {
   "cell_type": "markdown",
   "metadata": {},
   "source": [
    "### Explanation:\n",
    "1. **Import numpy**: The `numpy` library is imported to handle numerical operations on arrays.\n",
    "2. **Create Feature and Label Arrays**: `X` is a 2D array representing the feature vectors, and `Y` is a 1D array representing the labels or classes for each feature vector.\n",
    "3. **Import GaussianNB**: The `GaussianNB` classifier from the `sklearn.naive_bayes` module is imported. This classifier assumes that the features follow a normal distribution.\n",
    "4. **Train the Classifier (fit method)**: An instance of `GaussianNB` is created and trained using the `fit` method with the feature vectors `X` and labels `Y`.\n",
    "5. **Predict Class of New Sample**: The `predict` method is used to classify a new sample with the feature vector `[-0.8, -1]`.\n",
    "6. **Partial Fit for Online Learning**: Another instance of `GaussianNB` is created to demonstrate online learning using the `partial_fit` method. This method allows the classifier to be updated incrementally with new data chunks.\n",
    "7. **Predict Class of New Sample with Partially Trained Classifier**: The same sample is classified using the partially trained classifier to see if the predictions match those of the fully trained classifier."
   ]
  },
  {
   "cell_type": "code",
   "execution_count": 7,
   "metadata": {},
   "outputs": [
    {
     "name": "stdout",
     "output_type": "stream",
     "text": [
      "Number of mislabeled points out of a total 75 points : 4\n"
     ]
    }
   ],
   "source": [
    "# Import the Gaussian Naive Bayes classifier from scikit-learn\n",
    "from sklearn.naive_bayes import GaussianNB\n",
    "\n",
    "# Define the classify function which takes training features and labels as inputs\n",
    "def classify(features_train, labels_train):   \n",
    "    ### import the sklearn module for GaussianNB\n",
    "    ### create classifier\n",
    "    ### fit the classifier on the training features and labels\n",
    "    ### return the fit classifier\n",
    "    \n",
    "    # Create the Gaussian Naive Bayes classifier\n",
    "    clf = GaussianNB()\n",
    "    \n",
    "    # Train the classifier with the training data\n",
    "    clf.fit(features_train, labels_train)\n",
    "    \n",
    "    # Return the trained classifier\n",
    "    return clf"
   ]
  },
  {
   "cell_type": "markdown",
   "metadata": {},
   "source": [
    "### Explanation:\n",
    "1. **Import GaussianNB**: The `GaussianNB` classifier is imported from the `sklearn.naive_bayes` module. This classifier is used for implementing the Naive Bayes algorithm assuming a Gaussian (normal) distribution of the data.\n",
    "   ```python\n",
    "   from sklearn.naive_bayes import GaussianNB\n",
    "   ```\n",
    "\n",
    "2. **Define classify Function**: The `classify` function is defined, which takes the training features (`features_train`) and training labels (`labels_train`) as inputs.\n",
    "   ```python\n",
    "   def classify(features_train, labels_train):\n",
    "   ```\n",
    "\n",
    "3. **Create Classifier**: Inside the function, an instance of the `GaussianNB` classifier is created.\n",
    "   ```python\n",
    "   clf = GaussianNB()\n",
    "   ```\n",
    "\n",
    "4. **Train Classifier**: The classifier is trained using the `fit` method, which takes the training features and labels as inputs.\n",
    "   ```python\n",
    "   clf.fit(features_train, labels_train)\n",
    "   ```\n",
    "\n",
    "5. **Return Classifier**: The trained classifier is returned from the function.\n",
    "   ```python\n",
    "   return clf\n",
    "   ```"
   ]
  }
 ],
 "metadata": {
  "kernelspec": {
   "display_name": "Python 3",
   "language": "python",
   "name": "python3"
  },
  "language_info": {
   "codemirror_mode": {
    "name": "ipython",
    "version": 3
   },
   "file_extension": ".py",
   "mimetype": "text/x-python",
   "name": "python",
   "nbconvert_exporter": "python",
   "pygments_lexer": "ipython3",
   "version": "3.12.4"
  }
 },
 "nbformat": 4,
 "nbformat_minor": 2
}
