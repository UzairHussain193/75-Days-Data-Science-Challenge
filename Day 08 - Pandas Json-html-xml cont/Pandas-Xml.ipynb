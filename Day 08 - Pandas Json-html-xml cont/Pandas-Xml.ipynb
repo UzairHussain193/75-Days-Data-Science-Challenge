{
 "cells": [
  {
   "cell_type": "markdown",
   "metadata": {},
   "source": [
    "# Day 08 continue - Pandas working with XML.\n",
    "\n",
    "This includes:\n",
    "- Read XML and get Dataframe\n",
    "- Convert Dataframe to XML"
   ]
  },
  {
   "cell_type": "markdown",
   "metadata": {},
   "source": [
    "#### What is **XML**?\n",
    "1. XML stands for eXtensible Markup Language\n",
    "2. XML is a markup language much like HTML\n",
    "3. XML was designed to store and transport data\n",
    "4. XML was designed to be self-descriptive\n",
    "5. XML is a W3C Recommendation\n",
    "\n",
    "Introduction to XML [Click Here](https://developer.mozilla.org/en-US/docs/Web/XML/XML_introduction)"
   ]
  },
  {
   "cell_type": "code",
   "execution_count": 6,
   "metadata": {},
   "outputs": [],
   "source": [
    "import pandas as pd"
   ]
  },
  {
   "cell_type": "code",
   "execution_count": 7,
   "metadata": {},
   "outputs": [
    {
     "data": {
      "text/html": [
       "<div>\n",
       "<style scoped>\n",
       "    .dataframe tbody tr th:only-of-type {\n",
       "        vertical-align: middle;\n",
       "    }\n",
       "\n",
       "    .dataframe tbody tr th {\n",
       "        vertical-align: top;\n",
       "    }\n",
       "\n",
       "    .dataframe thead th {\n",
       "        text-align: right;\n",
       "    }\n",
       "</style>\n",
       "<table border=\"1\" class=\"dataframe\">\n",
       "  <thead>\n",
       "    <tr style=\"text-align: right;\">\n",
       "      <th></th>\n",
       "      <th>shape</th>\n",
       "      <th>degrees</th>\n",
       "      <th>sides</th>\n",
       "    </tr>\n",
       "  </thead>\n",
       "  <tbody>\n",
       "    <tr>\n",
       "      <th>0</th>\n",
       "      <td>square</td>\n",
       "      <td>360</td>\n",
       "      <td>4.0</td>\n",
       "    </tr>\n",
       "    <tr>\n",
       "      <th>1</th>\n",
       "      <td>circle</td>\n",
       "      <td>360</td>\n",
       "      <td>NaN</td>\n",
       "    </tr>\n",
       "    <tr>\n",
       "      <th>2</th>\n",
       "      <td>triangle</td>\n",
       "      <td>180</td>\n",
       "      <td>3.0</td>\n",
       "    </tr>\n",
       "  </tbody>\n",
       "</table>\n",
       "</div>"
      ],
      "text/plain": [
       "      shape  degrees  sides\n",
       "0    square      360    4.0\n",
       "1    circle      360    NaN\n",
       "2  triangle      180    3.0"
      ]
     },
     "execution_count": 7,
     "metadata": {},
     "output_type": "execute_result"
    }
   ],
   "source": [
    "pd.read_xml('test.xml')"
   ]
  },
  {
   "cell_type": "code",
   "execution_count": 10,
   "metadata": {},
   "outputs": [],
   "source": [
    "xml = '''<?xml version='1.0' encoding='utf-8'?>\n",
    "<data xmlns=\"http://example.com\">\n",
    " <row>\n",
    "   <shape>square</shape>\n",
    "   <degrees>360</degrees>\n",
    "   <sides>4.0</sides>\n",
    "   <firstname>Uzair</firstname>\n",
    " </row>\n",
    " <row>\n",
    "   <shape>circle</shape>\n",
    "   <degrees>360</degrees>\n",
    "   <sides/>\n",
    "    <firstname></firstname>\n",
    " </row>\n",
    " <row>\n",
    "   <shape>triangle</shape>\n",
    "   <degrees>180</degrees>\n",
    "   <sides>3.0</sides>\n",
    "   <firstname></firstname>\n",
    " </row>\n",
    "</data>'''"
   ]
  },
  {
   "cell_type": "code",
   "execution_count": 11,
   "metadata": {},
   "outputs": [
    {
     "name": "stderr",
     "output_type": "stream",
     "text": [
      "C:\\Users\\Uzair Hussain\\AppData\\Local\\Temp\\ipykernel_856\\2704978085.py:1: FutureWarning: Passing literal xml to 'read_xml' is deprecated and will be removed in a future version. To read from a literal string, wrap it in a 'StringIO' object.\n",
      "  pd.read_xml(xml)\n"
     ]
    },
    {
     "data": {
      "text/html": [
       "<div>\n",
       "<style scoped>\n",
       "    .dataframe tbody tr th:only-of-type {\n",
       "        vertical-align: middle;\n",
       "    }\n",
       "\n",
       "    .dataframe tbody tr th {\n",
       "        vertical-align: top;\n",
       "    }\n",
       "\n",
       "    .dataframe thead th {\n",
       "        text-align: right;\n",
       "    }\n",
       "</style>\n",
       "<table border=\"1\" class=\"dataframe\">\n",
       "  <thead>\n",
       "    <tr style=\"text-align: right;\">\n",
       "      <th></th>\n",
       "      <th>shape</th>\n",
       "      <th>degrees</th>\n",
       "      <th>sides</th>\n",
       "      <th>firstname</th>\n",
       "    </tr>\n",
       "  </thead>\n",
       "  <tbody>\n",
       "    <tr>\n",
       "      <th>0</th>\n",
       "      <td>square</td>\n",
       "      <td>360</td>\n",
       "      <td>4.0</td>\n",
       "      <td>Uzair</td>\n",
       "    </tr>\n",
       "    <tr>\n",
       "      <th>1</th>\n",
       "      <td>circle</td>\n",
       "      <td>360</td>\n",
       "      <td>NaN</td>\n",
       "      <td>None</td>\n",
       "    </tr>\n",
       "    <tr>\n",
       "      <th>2</th>\n",
       "      <td>triangle</td>\n",
       "      <td>180</td>\n",
       "      <td>3.0</td>\n",
       "      <td>None</td>\n",
       "    </tr>\n",
       "  </tbody>\n",
       "</table>\n",
       "</div>"
      ],
      "text/plain": [
       "      shape  degrees  sides firstname\n",
       "0    square      360    4.0     Uzair\n",
       "1    circle      360    NaN      None\n",
       "2  triangle      180    3.0      None"
      ]
     },
     "execution_count": 11,
     "metadata": {},
     "output_type": "execute_result"
    }
   ],
   "source": [
    "pd.read_xml(xml)"
   ]
  },
  {
   "cell_type": "code",
   "execution_count": 12,
   "metadata": {},
   "outputs": [],
   "source": [
    "# <!--  Format to write an XML file-->\n",
    "# <book>\n",
    "#     <title>Harry Potter and the Sorcerer's Stone</title>\n",
    "#     <author>J.K. Rowling</author>\n",
    "#     <year>1997</year>\n",
    "# </book>"
   ]
  },
  {
   "cell_type": "code",
   "execution_count": 17,
   "metadata": {},
   "outputs": [],
   "source": [
    "xml2 = '''<?xml version='1.0' encoding='utf-8'?>\n",
    "<data>\n",
    "  <row shape=\"square\" degrees=\"360\" sides=\"4.0\" firstname=\"Uzair\"/>\n",
    "  <row shape=\"circle\" degrees=\"360\"/>\n",
    "  <row shape=\"triangle\" degrees=\"180\" sides=\"3.0\" lastname=\"Hussain\"/>\n",
    "</data>'''\n",
    "\n",
    "# row 1,2 do not have lastname, while row2,3 do not have first name"
   ]
  },
  {
   "cell_type": "code",
   "execution_count": 18,
   "metadata": {},
   "outputs": [
    {
     "name": "stderr",
     "output_type": "stream",
     "text": [
      "C:\\Users\\Uzair Hussain\\AppData\\Local\\Temp\\ipykernel_856\\1686713709.py:1: FutureWarning: Passing literal xml to 'read_xml' is deprecated and will be removed in a future version. To read from a literal string, wrap it in a 'StringIO' object.\n",
      "  pd.read_xml(xml2)\n"
     ]
    },
    {
     "data": {
      "text/html": [
       "<div>\n",
       "<style scoped>\n",
       "    .dataframe tbody tr th:only-of-type {\n",
       "        vertical-align: middle;\n",
       "    }\n",
       "\n",
       "    .dataframe tbody tr th {\n",
       "        vertical-align: top;\n",
       "    }\n",
       "\n",
       "    .dataframe thead th {\n",
       "        text-align: right;\n",
       "    }\n",
       "</style>\n",
       "<table border=\"1\" class=\"dataframe\">\n",
       "  <thead>\n",
       "    <tr style=\"text-align: right;\">\n",
       "      <th></th>\n",
       "      <th>shape</th>\n",
       "      <th>degrees</th>\n",
       "      <th>sides</th>\n",
       "      <th>firstname</th>\n",
       "      <th>lastname</th>\n",
       "    </tr>\n",
       "  </thead>\n",
       "  <tbody>\n",
       "    <tr>\n",
       "      <th>0</th>\n",
       "      <td>square</td>\n",
       "      <td>360</td>\n",
       "      <td>4.0</td>\n",
       "      <td>Uzair</td>\n",
       "      <td>None</td>\n",
       "    </tr>\n",
       "    <tr>\n",
       "      <th>1</th>\n",
       "      <td>circle</td>\n",
       "      <td>360</td>\n",
       "      <td>NaN</td>\n",
       "      <td>None</td>\n",
       "      <td>None</td>\n",
       "    </tr>\n",
       "    <tr>\n",
       "      <th>2</th>\n",
       "      <td>triangle</td>\n",
       "      <td>180</td>\n",
       "      <td>3.0</td>\n",
       "      <td>None</td>\n",
       "      <td>Hussain</td>\n",
       "    </tr>\n",
       "  </tbody>\n",
       "</table>\n",
       "</div>"
      ],
      "text/plain": [
       "      shape  degrees  sides firstname lastname\n",
       "0    square      360    4.0     Uzair     None\n",
       "1    circle      360    NaN      None     None\n",
       "2  triangle      180    3.0      None  Hussain"
      ]
     },
     "execution_count": 18,
     "metadata": {},
     "output_type": "execute_result"
    }
   ],
   "source": [
    "pd.read_xml(xml2)"
   ]
  },
  {
   "cell_type": "code",
   "execution_count": 19,
   "metadata": {},
   "outputs": [
    {
     "name": "stderr",
     "output_type": "stream",
     "text": [
      "C:\\Users\\Uzair Hussain\\AppData\\Local\\Temp\\ipykernel_856\\1786417899.py:1: FutureWarning: Passing literal xml to 'read_xml' is deprecated and will be removed in a future version. To read from a literal string, wrap it in a 'StringIO' object.\n",
      "  pd.read_xml(xml2, xpath='.//row')\n"
     ]
    },
    {
     "data": {
      "text/html": [
       "<div>\n",
       "<style scoped>\n",
       "    .dataframe tbody tr th:only-of-type {\n",
       "        vertical-align: middle;\n",
       "    }\n",
       "\n",
       "    .dataframe tbody tr th {\n",
       "        vertical-align: top;\n",
       "    }\n",
       "\n",
       "    .dataframe thead th {\n",
       "        text-align: right;\n",
       "    }\n",
       "</style>\n",
       "<table border=\"1\" class=\"dataframe\">\n",
       "  <thead>\n",
       "    <tr style=\"text-align: right;\">\n",
       "      <th></th>\n",
       "      <th>shape</th>\n",
       "      <th>degrees</th>\n",
       "      <th>sides</th>\n",
       "      <th>firstname</th>\n",
       "      <th>lastname</th>\n",
       "    </tr>\n",
       "  </thead>\n",
       "  <tbody>\n",
       "    <tr>\n",
       "      <th>0</th>\n",
       "      <td>square</td>\n",
       "      <td>360</td>\n",
       "      <td>4.0</td>\n",
       "      <td>Uzair</td>\n",
       "      <td>None</td>\n",
       "    </tr>\n",
       "    <tr>\n",
       "      <th>1</th>\n",
       "      <td>circle</td>\n",
       "      <td>360</td>\n",
       "      <td>NaN</td>\n",
       "      <td>None</td>\n",
       "      <td>None</td>\n",
       "    </tr>\n",
       "    <tr>\n",
       "      <th>2</th>\n",
       "      <td>triangle</td>\n",
       "      <td>180</td>\n",
       "      <td>3.0</td>\n",
       "      <td>None</td>\n",
       "      <td>Hussain</td>\n",
       "    </tr>\n",
       "  </tbody>\n",
       "</table>\n",
       "</div>"
      ],
      "text/plain": [
       "      shape  degrees  sides firstname lastname\n",
       "0    square      360    4.0     Uzair     None\n",
       "1    circle      360    NaN      None     None\n",
       "2  triangle      180    3.0      None  Hussain"
      ]
     },
     "execution_count": 19,
     "metadata": {},
     "output_type": "execute_result"
    }
   ],
   "source": [
    "pd.read_xml(xml2, xpath='.//row')"
   ]
  },
  {
   "cell_type": "code",
   "execution_count": 22,
   "metadata": {},
   "outputs": [],
   "source": [
    "xml = '''<?xml version='1.0' encoding='utf-8'?>\n",
    "<doc:data xmlns:doc=\"https://example.com\"> \n",
    "  <doc:row>\n",
    "    <doc:shape>square</doc:shape>\n",
    "    <doc:degrees>360</doc:degrees>\n",
    "    <doc:sides>4.0</doc:sides>\n",
    "  </doc:row>\n",
    "  <doc:row>\n",
    "    <doc:shape>circle</doc:shape>\n",
    "    <doc:degrees>360</doc:degrees>\n",
    "    <doc:sides/>\n",
    "  </doc:row>\n",
    "  <doc:row>\n",
    "    <doc:shape>triangle</doc:shape>\n",
    "    <doc:degrees>180</doc:degrees>\n",
    "    <doc:sides>3.0</doc:sides>\n",
    "  </doc:row>\n",
    "</doc:data>'''\n",
    "\n",
    "\n",
    "# <doc:data xmlns:doc=\"https://example.com\"> this second line is namespace and if you are using namespace in code file than you have to use that in xpath alsp"
   ]
  },
  {
   "cell_type": "code",
   "execution_count": 29,
   "metadata": {},
   "outputs": [
    {
     "name": "stderr",
     "output_type": "stream",
     "text": [
      "C:\\Users\\Uzair Hussain\\AppData\\Local\\Temp\\ipykernel_856\\1561571042.py:1: FutureWarning: Passing literal xml to 'read_xml' is deprecated and will be removed in a future version. To read from a literal string, wrap it in a 'StringIO' object.\n",
      "  df=pd.read_xml(xml, xpath='.//doc:row', namespaces={\"doc\": \"https://example.com\"})\n"
     ]
    }
   ],
   "source": [
    "df=pd.read_xml(xml, xpath='.//doc:row', namespaces={\"doc\": \"https://example.com\"})"
   ]
  },
  {
   "cell_type": "code",
   "execution_count": 30,
   "metadata": {},
   "outputs": [
    {
     "data": {
      "text/html": [
       "<div>\n",
       "<style scoped>\n",
       "    .dataframe tbody tr th:only-of-type {\n",
       "        vertical-align: middle;\n",
       "    }\n",
       "\n",
       "    .dataframe tbody tr th {\n",
       "        vertical-align: top;\n",
       "    }\n",
       "\n",
       "    .dataframe thead th {\n",
       "        text-align: right;\n",
       "    }\n",
       "</style>\n",
       "<table border=\"1\" class=\"dataframe\">\n",
       "  <thead>\n",
       "    <tr style=\"text-align: right;\">\n",
       "      <th></th>\n",
       "      <th>shape</th>\n",
       "      <th>degrees</th>\n",
       "      <th>sides</th>\n",
       "    </tr>\n",
       "  </thead>\n",
       "  <tbody>\n",
       "    <tr>\n",
       "      <th>0</th>\n",
       "      <td>square</td>\n",
       "      <td>360</td>\n",
       "      <td>4.0</td>\n",
       "    </tr>\n",
       "    <tr>\n",
       "      <th>1</th>\n",
       "      <td>circle</td>\n",
       "      <td>360</td>\n",
       "      <td>NaN</td>\n",
       "    </tr>\n",
       "    <tr>\n",
       "      <th>2</th>\n",
       "      <td>triangle</td>\n",
       "      <td>180</td>\n",
       "      <td>3.0</td>\n",
       "    </tr>\n",
       "  </tbody>\n",
       "</table>\n",
       "</div>"
      ],
      "text/plain": [
       "      shape  degrees  sides\n",
       "0    square      360    4.0\n",
       "1    circle      360    NaN\n",
       "2  triangle      180    3.0"
      ]
     },
     "execution_count": 30,
     "metadata": {},
     "output_type": "execute_result"
    }
   ],
   "source": [
    "df"
   ]
  },
  {
   "cell_type": "code",
   "execution_count": 31,
   "metadata": {},
   "outputs": [],
   "source": [
    "df.to_xml('test1.xml')"
   ]
  },
  {
   "cell_type": "code",
   "execution_count": null,
   "metadata": {},
   "outputs": [],
   "source": []
  }
 ],
 "metadata": {
  "kernelspec": {
   "display_name": "Python 3",
   "language": "python",
   "name": "python3"
  },
  "language_info": {
   "codemirror_mode": {
    "name": "ipython",
    "version": 3
   },
   "file_extension": ".py",
   "mimetype": "text/x-python",
   "name": "python",
   "nbconvert_exporter": "python",
   "pygments_lexer": "ipython3",
   "version": "3.11.1"
  }
 },
 "nbformat": 4,
 "nbformat_minor": 2
}
