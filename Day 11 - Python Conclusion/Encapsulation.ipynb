{
 "cells": [
  {
   "cell_type": "markdown",
   "metadata": {},
   "source": [
    "# Day 11 cont. - Python Encapsulation\n",
    "\n",
    "This includes:\n",
    "- Encapsulation"
   ]
  },
  {
   "cell_type": "markdown",
   "metadata": {},
   "source": [
    "## Encapsulation In Python\n",
    "\n",
    "Encapsulation is a fundamental principle in object-oriented programming that focuses on bundling data and the methods that operate on that data into a single unit called a class. It allows you to control the access and visibility of the data and methods, providing a way to protect and organize your code"
   ]
  },
  {
   "cell_type": "code",
   "execution_count": 35,
   "metadata": {},
   "outputs": [],
   "source": [
    "### Access Modifier--->Encapsulation\n",
    "## private\n",
    "\n",
    "class Person:\n",
    "    ## constructor\n",
    "    def __init__(self,name,age):\n",
    "        # these are private variables, syntax is i.e: __variable_name\n",
    "        self.__name=name  \n",
    "        self.__age=age\n",
    "\n",
    "    def display_info(self):\n",
    "        print(f\"the person name is {self.__name} and the age is {self.__age}\")\n",
    "\n",
    "    "
   ]
  },
  {
   "cell_type": "code",
   "execution_count": 36,
   "metadata": {},
   "outputs": [
    {
     "name": "stdout",
     "output_type": "stream",
     "text": [
      "the person name is Uzair and the age is 22\n"
     ]
    }
   ],
   "source": [
    "## object of the class\n",
    "person=Person(\"Uzair\",22)\n",
    "\n",
    "## accessing the private variable using the method\n",
    "person.display_info()\n"
   ]
  },
  {
   "cell_type": "code",
   "execution_count": 37,
   "metadata": {},
   "outputs": [
    {
     "data": {
      "text/plain": [
       "['_Person__age',\n",
       " '_Person__name',\n",
       " '__class__',\n",
       " '__delattr__',\n",
       " '__dict__',\n",
       " '__dir__',\n",
       " '__doc__',\n",
       " '__eq__',\n",
       " '__format__',\n",
       " '__ge__',\n",
       " '__getattribute__',\n",
       " '__getstate__',\n",
       " '__gt__',\n",
       " '__hash__',\n",
       " '__init__',\n",
       " '__init_subclass__',\n",
       " '__le__',\n",
       " '__lt__',\n",
       " '__module__',\n",
       " '__ne__',\n",
       " '__new__',\n",
       " '__reduce__',\n",
       " '__reduce_ex__',\n",
       " '__repr__',\n",
       " '__setattr__',\n",
       " '__sizeof__',\n",
       " '__str__',\n",
       " '__subclasshook__',\n",
       " '__weakref__',\n",
       " 'display_info']"
      ]
     },
     "execution_count": 37,
     "metadata": {},
     "output_type": "execute_result"
    }
   ],
   "source": [
    "dir(person)"
   ]
  },
  {
   "cell_type": "code",
   "execution_count": 38,
   "metadata": {},
   "outputs": [
    {
     "ename": "AttributeError",
     "evalue": "'Person' object has no attribute '__name'",
     "output_type": "error",
     "traceback": [
      "\u001b[1;31m---------------------------------------------------------------------------\u001b[0m",
      "\u001b[1;31mAttributeError\u001b[0m                            Traceback (most recent call last)",
      "Cell \u001b[1;32mIn[38], line 2\u001b[0m\n\u001b[0;32m      1\u001b[0m \u001b[38;5;66;03m## accessing the private variable\u001b[39;00m\n\u001b[1;32m----> 2\u001b[0m \u001b[43mperson\u001b[49m\u001b[38;5;241;43m.\u001b[39;49m\u001b[43m__name\u001b[49m\n\u001b[0;32m      3\u001b[0m \u001b[38;5;66;03m## this will give the error, because it is private variable\u001b[39;00m\n",
      "\u001b[1;31mAttributeError\u001b[0m: 'Person' object has no attribute '__name'"
     ]
    }
   ],
   "source": [
    "## accessing the private variable\n",
    "person.__name\n",
    "## this will give the error, because it is private variable"
   ]
  },
  {
   "cell_type": "code",
   "execution_count": 39,
   "metadata": {},
   "outputs": [],
   "source": [
    "### Access Modifier--->Encapsulation\n",
    "## Protected \n",
    "\n",
    "class Person1:\n",
    "    ## constructor\n",
    "    def __init__(self,name,age):\n",
    "        # these are protected variables, syntax is i.e: _variable_name\n",
    "        self._name=name\n",
    "        self._age=age\n",
    "\n",
    "    "
   ]
  },
  {
   "cell_type": "code",
   "execution_count": 40,
   "metadata": {},
   "outputs": [],
   "source": [
    "person1=Person1(\"Uzair\",22)"
   ]
  },
  {
   "cell_type": "code",
   "execution_count": 41,
   "metadata": {},
   "outputs": [
    {
     "data": {
      "text/plain": [
       "'Uzair'"
      ]
     },
     "execution_count": 41,
     "metadata": {},
     "output_type": "execute_result"
    }
   ],
   "source": [
    "person1._name"
   ]
  },
  {
   "cell_type": "code",
   "execution_count": 42,
   "metadata": {},
   "outputs": [
    {
     "data": {
      "text/plain": [
       "['__class__',\n",
       " '__delattr__',\n",
       " '__dict__',\n",
       " '__dir__',\n",
       " '__doc__',\n",
       " '__eq__',\n",
       " '__format__',\n",
       " '__ge__',\n",
       " '__getattribute__',\n",
       " '__getstate__',\n",
       " '__gt__',\n",
       " '__hash__',\n",
       " '__init__',\n",
       " '__init_subclass__',\n",
       " '__le__',\n",
       " '__lt__',\n",
       " '__module__',\n",
       " '__ne__',\n",
       " '__new__',\n",
       " '__reduce__',\n",
       " '__reduce_ex__',\n",
       " '__repr__',\n",
       " '__setattr__',\n",
       " '__sizeof__',\n",
       " '__str__',\n",
       " '__subclasshook__',\n",
       " '__weakref__',\n",
       " '_age',\n",
       " '_name']"
      ]
     },
     "execution_count": 42,
     "metadata": {},
     "output_type": "execute_result"
    }
   ],
   "source": [
    "dir(person1)\n"
   ]
  },
  {
   "cell_type": "code",
   "execution_count": 43,
   "metadata": {},
   "outputs": [
    {
     "data": {
      "text/plain": [
       "22"
      ]
     },
     "execution_count": 43,
     "metadata": {},
     "output_type": "execute_result"
    }
   ],
   "source": [
    "person1._age"
   ]
  },
  {
   "cell_type": "code",
   "execution_count": 47,
   "metadata": {},
   "outputs": [],
   "source": [
    "class Student(Person1):\n",
    "    def __init__(self,name,age):\n",
    "        super().__init__(name,age)\n",
    "\n",
    "    def display_info(self):\n",
    "        print(f\"the person name is {self._name} and the age is {self._age}\")\n"
   ]
  },
  {
   "cell_type": "code",
   "execution_count": 48,
   "metadata": {},
   "outputs": [],
   "source": [
    "student1=Student(\"Uzair\",33)"
   ]
  },
  {
   "cell_type": "code",
   "execution_count": 49,
   "metadata": {},
   "outputs": [
    {
     "name": "stdout",
     "output_type": "stream",
     "text": [
      "the person name is Uzair and the age is 33\n"
     ]
    }
   ],
   "source": [
    "\n",
    "student1.display_info()"
   ]
  },
  {
   "cell_type": "code",
   "execution_count": 50,
   "metadata": {},
   "outputs": [],
   "source": [
    "## public access modifiers\n",
    "class Person:\n",
    "    ## constructor\n",
    "    def __init__(self,name,age):\n",
    "        self.name=name\n",
    "        self.age=age\n"
   ]
  },
  {
   "cell_type": "markdown",
   "metadata": {},
   "source": [
    "### Encapsulation and Access Modifiers in Python\n",
    "\n",
    "Encapsulation is one of the fundamental principles of Object-Oriented Programming (OOP). It refers to the bundling of data (attributes) and methods that operate on the data into a single unit, or class. Encapsulation restricts direct access to some of the object's components, which can prevent the accidental modification of data.\n",
    "\n",
    "In Python, encapsulation is implemented using access modifiers, which control the accessibility of class members (attributes and methods). Although Python does not have strict access control like some other languages (such as private, protected, and public keywords in C++ or Java), it uses a naming convention to indicate the intended level of access.\n",
    "\n",
    "### Access Modifiers in Python\n",
    "\n",
    "1. **Public**: Accessible from anywhere.\n",
    "2. **Protected**: Intended to be accessible only within the class and its subclasses (conventionally indicated by a single underscore `_`).\n",
    "3. **Private**: Intended to be inaccessible from outside the class (conventionally indicated by a double underscore `__`).\n",
    "\n",
    "### Example of Encapsulation and Access Modifiers\n",
    "\n",
    "Let's illustrate these concepts with an example.\n",
    "\n",
    "```python\n",
    "class Person:\n",
    "    def __init__(self, name, age):\n",
    "        self.name = name            # Public attribute\n",
    "        self._age = age             # Protected attribute\n",
    "        self.__social_security_number = \"123-45-6789\"  # Private attribute\n",
    "\n",
    "    def display_info(self):\n",
    "        print(f\"Name: {self.name}\")\n",
    "        print(f\"Age: {self._age}\")\n",
    "        print(f\"SSN: {self.__social_security_number}\")\n",
    "\n",
    "    def set_age(self, age):\n",
    "        if age > 0:\n",
    "            self._age = age\n",
    "        else:\n",
    "            print(\"Invalid age\")\n",
    "\n",
    "    def get_age(self):\n",
    "        return self._age\n",
    "\n",
    "    def set_social_security_number(self, ssn):\n",
    "        self.__social_security_number = ssn\n",
    "\n",
    "    def get_social_security_number(self):\n",
    "        return self.__social_security_number\n",
    "\n",
    "# Create an instance of the Person class\n",
    "person = Person(\"Alice\", 30)\n",
    "\n",
    "# Access public attribute\n",
    "print(person.name)  # Output: Alice\n",
    "\n",
    "# Access protected attribute (not recommended, but possible)\n",
    "print(person._age)  # Output: 30\n",
    "\n",
    "# Access private attribute (will raise an AttributeError)\n",
    "try:\n",
    "    print(person.__social_security_number)\n",
    "except AttributeError as e:\n",
    "    print(e)  # Output: 'Person' object has no attribute '__social_security_number'\n",
    "\n",
    "# Access private attribute using name mangling\n",
    "print(person._Person__social_security_number)  # Output: 123-45-6789\n",
    "\n",
    "# Use getter and setter methods to access and modify private attributes\n",
    "person.set_age(35)\n",
    "print(person.get_age())  # Output: 35\n",
    "\n",
    "person.set_social_security_number(\"987-65-4321\")\n",
    "print(person.get_social_security_number())  # Output: 987-65-4321\n",
    "\n",
    "# Display all information using a method\n",
    "person.display_info()\n",
    "# Output:\n",
    "# Name: Alice\n",
    "# Age: 35\n",
    "# SSN: 987-65-4321\n",
    "```\n",
    "\n",
    "### Explanation:\n",
    "\n",
    "1. **Public Attribute (`name`)**:\n",
    "   - `self.name` is a public attribute and can be accessed directly from outside the class.\n",
    "\n",
    "2. **Protected Attribute (`_age`)**:\n",
    "   - `self._age` is a protected attribute. By convention, it should not be accessed directly outside the class or its subclasses, though it is technically possible.\n",
    "\n",
    "3. **Private Attribute (`__social_security_number`)**:\n",
    "   - `self.__social_security_number` is a private attribute. It is intended to be inaccessible from outside the class.\n",
    "   - Python uses name mangling to make it harder to access private attributes. The attribute is internally renamed to `_Person__social_security_number`.\n",
    "\n",
    "4. **Getter and Setter Methods**:\n",
    "   - `set_age` and `get_age` methods are used to set and get the value of the protected attribute `_age`.\n",
    "   - `set_social_security_number` and `get_social_security_number` methods are used to set and get the value of the private attribute `__social_security_number`.\n",
    "\n",
    "5. **Name Mangling**:\n",
    "   - Private attributes can still be accessed using a special syntax: `object._ClassName__attribute`. This is generally discouraged as it breaks encapsulation.\n",
    "\n",
    "### Summary\n",
    "\n",
    "Encapsulation in Python is achieved using access modifiers to control the accessibility of class members. Public attributes and methods are accessible from anywhere, protected members are intended for internal use within the class and its subclasses, and private members are meant to be hidden from outside the class. Proper encapsulation helps to protect the internal state of an object and provides a controlled interface for accessing and modifying that state."
   ]
  },
  {
   "cell_type": "markdown",
   "metadata": {},
   "source": []
  }
 ],
 "metadata": {
  "kernelspec": {
   "display_name": "Python 3",
   "language": "python",
   "name": "python3"
  },
  "language_info": {
   "codemirror_mode": {
    "name": "ipython",
    "version": 3
   },
   "file_extension": ".py",
   "mimetype": "text/x-python",
   "name": "python",
   "nbconvert_exporter": "python",
   "pygments_lexer": "ipython3",
   "version": "3.11.1"
  }
 },
 "nbformat": 4,
 "nbformat_minor": 2
}
